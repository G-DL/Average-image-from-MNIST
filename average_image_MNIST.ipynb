{
 "cells": [
  {
   "cell_type": "markdown",
   "metadata": {},
   "source": [
    "# Average hand-written digit in the MNIST dataset\n",
    "\n",
    "The following is a simple solution to exercise n.3, in section 3 lecture 28, of the course on Deep Learning by The Lazy Programmer. This course is available for free on Udemy, at the link: \n",
    "\n",
    "https://www.udemy.com/deep-learning-prerequisites-the-numpy-stack-in-python\n",
    "\n",
    "The code calculates and shows how the average digit in the database provided looks like. The database used is a portion of the __MNIST__ dataset of hand-written digits. This database is commonly used for training convolutional neural networks in recognising digits written by humans, and by students in programming for learning purposes.\n",
    "This particular code shows how to load and read csv files with Pandas, how to assign their content to the appropriate Numpy objects, and how to compute and plot the average value of multiple bitmaps."
   ]
  },
  {
   "cell_type": "markdown",
   "metadata": {},
   "source": [
    "## Dependencies\n",
    "\n",
    "The only libraries that are required for this program are:\n",
    "\n",
    "+ Pandas: Gives simple functions for parsing csv files and return their content\n",
    "\n",
    "+ Numpy: Handles the linear algebra computations\n",
    "\n",
    "+ Matplotlib.pyplot: For plotting images\n"
   ]
  },
  {
   "cell_type": "code",
   "execution_count": 2,
   "metadata": {},
   "outputs": [],
   "source": [
    "import pandas as pd\n",
    "import numpy as np\n",
    "import matplotlib.pyplot as plt"
   ]
  },
  {
   "cell_type": "markdown",
   "metadata": {},
   "source": [
    "## Content of the dataset\n",
    "\n",
    "The dataset provided contains 9999 samples of individual digits, stored as rows of a CSV file. The rows contain a first element that acts as a label, identifying the digit described by that row. The remaining 784 elements of the same row describe a flattened 28x28 bitmap, where each pixel is described by the intensity of its colour, in the range of 0-255. The file itself is called mnist_test.csv and is provided in the directory of this repository.\n",
    "\n",
    "We will first load the dataset with Pandas' built-in function *read_csv* that mandatory argument the path of the csv file to be loaded, and returns a DataFrame object."
   ]
  },
  {
   "cell_type": "code",
   "execution_count": 3,
   "metadata": {},
   "outputs": [
    {
     "name": "stdout",
     "output_type": "stream",
     "text": [
      "Load successful\n"
     ]
    }
   ],
   "source": [
    "data_location = 'mnist_test.csv'        # This can be changed with an url to allow for remote loading\n",
    "try:\n",
    "    df = pd.read_csv(data_location)\n",
    "    print('Load successful')            # Gives positive feedback if the loading is successful\n",
    "except:\n",
    "    print('Load NOT successful')        # Gives negative feedback if the loading is unsuccessful"
   ]
  },
  {
   "cell_type": "markdown",
   "metadata": {},
   "source": [
    "## Converting the data into a Numpy array\n",
    "\n",
    "We can verify the type of object returned by the *read_csv()* function by calling *type(object)* , to confirm that we have indeed the desired object. Note that this DataFrame is not immediately suitable for performing computation through Numpy. In order to be able to call Numpy functions on it, we are required to convert it to a Numpy object first.\n",
    "\n",
    "The DataFrame object has a method called *as_matrix()* that converts the data it stores into a numpy.ndarray object. \n",
    "We will call this method and return an array that will be usable with Numpy's functions."
   ]
  },
  {
   "cell_type": "code",
   "execution_count": 4,
   "metadata": {},
   "outputs": [
    {
     "name": "stdout",
     "output_type": "stream",
     "text": [
      "<class 'pandas.core.frame.DataFrame'> (9999, 785)\n",
      "<class 'numpy.ndarray'> (9999, 785)\n"
     ]
    }
   ],
   "source": [
    "print(type(df),df.shape)\n",
    "M = df.as_matrix()\n",
    "print(type(M), M.shape)"
   ]
  },
  {
   "cell_type": "markdown",
   "metadata": {},
   "source": [
    "## Displaying some samples\n",
    "\n",
    "We will now show some of the samples from the dataset, to make sure we have parsed it and understood its structure correctly. The array $M$ should now store 785 column vectors, the first of which contains all the labels for each digit, while the remainder contains the flattened version of the image itself. \n",
    "\n",
    "The following *for* loop shows six samples selected from the distribution."
   ]
  },
  {
   "cell_type": "code",
   "execution_count": 10,
   "metadata": {
    "scrolled": true
   },
   "outputs": [
    {
     "name": "stdout",
     "output_type": "stream",
     "text": [
      "Label:  2\n",
      "Size:  (28, 28)\n"
     ]
    },
    {
     "data": {
      "image/png": "[encoded data removed]",
      "text/plain": [
       "<matplotlib.figure.Figure at 0x1e2f672b400>"
      ]
     },
     "metadata": {},
     "output_type": "display_data"
    },
    {
     "name": "stdout",
     "output_type": "stream",
     "text": [
      "Label:  1\n",
      "Size:  (28, 28)\n"
     ]
    },
    {
     "data": {
      "image/png": "[encoded data removed]",
      "text/plain": [
       "<matplotlib.figure.Figure at 0x1e2f649fb00>"
      ]
     },
     "metadata": {},
     "output_type": "display_data"
    },
    {
     "name": "stdout",
     "output_type": "stream",
     "text": [
      "Label:  0\n",
      "Size:  (28, 28)\n"
     ]
    },
    {
     "data": {
      "image/png": "[encoded data removed]",
      "text/plain": [
       "<matplotlib.figure.Figure at 0x1e2f65392e8>"
      ]
     },
     "metadata": {},
     "output_type": "display_data"
    },
    {
     "name": "stdout",
     "output_type": "stream",
     "text": [
      "Label:  4\n",
      "Size:  (28, 28)\n"
     ]
    },
    {
     "data": {
      "image/png": "[encoded data removed]",
      "text/plain": [
       "<matplotlib.figure.Figure at 0x1e2f67320b8>"
      ]
     },
     "metadata": {},
     "output_type": "display_data"
    }
   ],
   "source": [
    "for image_number in [0,1,2,3]:\n",
    "    im = M[image_number,1:]                  # The array M is split, and the first column, containing the labels, is\n",
    "    im = im.reshape(28,28)                   # excluded from the reshaping.\n",
    "    print('Label: ', M[image_number,0])      # The first element of each row of M contains the label for that row\n",
    "    print('Size: ', im.shape)\n",
    "    plt.imshow(im, cmap='gray')             \n",
    "    plt.axis('off')\n",
    "    plt.show()"
   ]
  },
  {
   "cell_type": "markdown",
   "metadata": {},
   "source": [
    "## Calculating the average-looking digit\n",
    "\n",
    "The last lines of code show that we have parsed and interpreted correctly the dataset. We can now calculate how the average digit looks like.\n",
    "\n",
    "To do so, we can apply the definition of average value on each element of the matrix $M$. Since we are interested in obtaining a row vector containing the average element of each column of $M$, the formula that computes the average image is thus the formula that computes average row vector of $M$. If $M_k$ is a row vector of $M$, and $n$ is the size of the dimension of $M$ on which summation is performed, the average row vector is:\n",
    "\n",
    "\n",
    "\\begin{equation*}\n",
    "\\frac{\\sum_{k=1}^n M_k}{n}\n",
    "\\end{equation*}\n",
    "\n",
    "We will need to be careful and remember to omit the labels on the first column while performing summation, as it contains labels, not pixels. We will store the average label on its own, and display along the average-looking digit in the output."
   ]
  },
  {
   "cell_type": "code",
   "execution_count": null,
   "metadata": {
    "scrolled": true
   },
   "outputs": [],
   "source": [
    "M_sum = np.zeros(M[:,1:].shape[1])     # Creates a zero row vector of dimensionality 784\n",
    "avg_label = 0                       \n",
    "for e in range(M.shape[0]):            # Cycles over all rows of M and adds its content, \n",
    "    M_sum += M[e,1:]                   # element-wise, to the array M_sum. Also adds the label value to \n",
    "    avg_label += M[e,0]                # avg_label\n",
    "\n",
    "avg_label /= M.shape[0]                # The average value is calculating by dividing avg_label by the number of \n",
    "M_final = M_sum / M[:,1:].shape[1]     # rows of M, and by dividing M_sum by the number of columns of M,\n",
    "M_final = M_final.reshape(28,28)       # with the exception of the first column that contains labels.\n",
    "print('Average value: ', avg_label)    # M_final is then reshaped from its original shape, 1x784, to 28x28\n",
    "print(M_final.shape)\n",
    "plt.imshow(M_final, cmap='gray')\n",
    "plt.axis('off')\n",
    "plt.show()"
   ]
  }
 ],
 "metadata": {
  "kernelspec": {
   "display_name": "Python 3",
   "language": "python",
   "name": "python3"
  },
  "language_info": {
   "codemirror_mode": {
    "name": "ipython",
    "version": 3
   },
   "file_extension": ".py",
   "mimetype": "text/x-python",
   "name": "python",
   "nbconvert_exporter": "python",
   "pygments_lexer": "ipython3",
   "version": "3.6.3"
  }
 },
 "nbformat": 4,
 "nbformat_minor": 2
}
